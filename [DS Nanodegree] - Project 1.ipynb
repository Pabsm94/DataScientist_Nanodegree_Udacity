{
 "cells": [
  {
   "cell_type": "markdown",
   "metadata": {},
   "source": [
    "# Are YOU a Crossfit Games Athlete? This new data will let you know if YOU ARE (a) FIT."
   ]
  },
  {
   "cell_type": "markdown",
   "metadata": {},
   "source": [
    "https://medium.com/p/e83c04eb783e/edit"
   ]
  },
  {
   "cell_type": "code",
   "execution_count": 100,
   "metadata": {},
   "outputs": [],
   "source": [
    "import numpy as np\n",
    "import pandas as pd\n",
    "import matplotlib.pyplot as plt\n",
    "import seaborn as sns"
   ]
  },
  {
   "cell_type": "code",
   "execution_count": 101,
   "metadata": {},
   "outputs": [],
   "source": [
    "data_path = \"/Users/pblsnt/Documents/DataScientist_Nanodegree_Udacity/Data\"\n",
    "crossfit_data = \"/crossfit_games_data\""
   ]
  },
  {
   "cell_type": "code",
   "execution_count": 102,
   "metadata": {},
   "outputs": [],
   "source": [
    "def read_file_csv(filepath, header=0, sep=','):\n",
    "    return pd.read_csv(filepath_or_buffer=filepath, sep=sep, header=header)"
   ]
  },
  {
   "cell_type": "code",
   "execution_count": 103,
   "metadata": {},
   "outputs": [],
   "source": [
    "crossfit_open_scores_2019_file = data_path + crossfit_data + \"/2019_opens_scores.csv\"\n",
    "crossfit_open_athletes_2019_file = data_path + crossfit_data + \"/2019_opens_athletes.csv\"\n",
    "crossfit_open_scores_2020_file = data_path + crossfit_data + \"/2020_opens_scores.csv\"\n",
    "crossfit_open_athletes_2020_file = data_path + crossfit_data + \"/2020_opens_athletes.csv\""
   ]
  },
  {
   "cell_type": "markdown",
   "metadata": {},
   "source": [
    "## What does a Crossfit Athlete look like?"
   ]
  },
  {
   "cell_type": "code",
   "execution_count": 104,
   "metadata": {
    "scrolled": false
   },
   "outputs": [
    {
     "name": "stderr",
     "output_type": "stream",
     "text": [
      "/opt/anaconda3/envs/DSNanodegree/lib/python3.8/site-packages/IPython/core/interactiveshell.py:3254: DtypeWarning: Columns (4) have mixed types.Specify dtype option on import or set low_memory=False.\n",
      "  if (await self.run_code(code, result,  async_=asy)):\n"
     ]
    },
    {
     "data": {
      "text/html": [
       "<div>\n",
       "<style scoped>\n",
       "    .dataframe tbody tr th:only-of-type {\n",
       "        vertical-align: middle;\n",
       "    }\n",
       "\n",
       "    .dataframe tbody tr th {\n",
       "        vertical-align: top;\n",
       "    }\n",
       "\n",
       "    .dataframe thead th {\n",
       "        text-align: right;\n",
       "    }\n",
       "</style>\n",
       "<table border=\"1\" class=\"dataframe\">\n",
       "  <thead>\n",
       "    <tr style=\"text-align: right;\">\n",
       "      <th></th>\n",
       "      <th>competitorid</th>\n",
       "      <th>competitorname</th>\n",
       "      <th>firstname</th>\n",
       "      <th>lastname</th>\n",
       "      <th>postcompstatus</th>\n",
       "      <th>gender</th>\n",
       "      <th>profilepics3key</th>\n",
       "      <th>countryoforigincode</th>\n",
       "      <th>countryoforiginname</th>\n",
       "      <th>divisionid</th>\n",
       "      <th>affiliateid</th>\n",
       "      <th>affiliatename</th>\n",
       "      <th>age</th>\n",
       "      <th>height</th>\n",
       "      <th>weight</th>\n",
       "      <th>overallrank</th>\n",
       "      <th>overallscore</th>\n",
       "      <th>is_scaled</th>\n",
       "      <th>division</th>\n",
       "    </tr>\n",
       "  </thead>\n",
       "  <tbody>\n",
       "    <tr>\n",
       "      <th>0</th>\n",
       "      <td>2536</td>\n",
       "      <td>Samantha Briggs</td>\n",
       "      <td>Samantha</td>\n",
       "      <td>Briggs</td>\n",
       "      <td>accepted</td>\n",
       "      <td>F</td>\n",
       "      <td>0e63d-P2536_14-184.jpg</td>\n",
       "      <td>GB</td>\n",
       "      <td>United Kingdom</td>\n",
       "      <td>19</td>\n",
       "      <td>4098</td>\n",
       "      <td>CrossFit Black Five</td>\n",
       "      <td>37</td>\n",
       "      <td>1.70</td>\n",
       "      <td>61.23</td>\n",
       "      <td>1</td>\n",
       "      <td>33</td>\n",
       "      <td>0</td>\n",
       "      <td>Women (35-39)</td>\n",
       "    </tr>\n",
       "    <tr>\n",
       "      <th>1</th>\n",
       "      <td>485089</td>\n",
       "      <td>Renata Pimentel</td>\n",
       "      <td>Renata</td>\n",
       "      <td>Pimentel</td>\n",
       "      <td>accepted</td>\n",
       "      <td>F</td>\n",
       "      <td>04e97-P485089_5-184.jpg</td>\n",
       "      <td>BR</td>\n",
       "      <td>Brazil</td>\n",
       "      <td>19</td>\n",
       "      <td>15868</td>\n",
       "      <td>CrossFit Gurkha</td>\n",
       "      <td>36</td>\n",
       "      <td>1.74</td>\n",
       "      <td>73.00</td>\n",
       "      <td>2</td>\n",
       "      <td>66</td>\n",
       "      <td>0</td>\n",
       "      <td>Women (35-39)</td>\n",
       "    </tr>\n",
       "    <tr>\n",
       "      <th>2</th>\n",
       "      <td>16973</td>\n",
       "      <td>Carleen Mathews</td>\n",
       "      <td>Carleen</td>\n",
       "      <td>Mathews</td>\n",
       "      <td>NaN</td>\n",
       "      <td>F</td>\n",
       "      <td>b663a-P16973_6-184.jpg</td>\n",
       "      <td>US</td>\n",
       "      <td>United States</td>\n",
       "      <td>19</td>\n",
       "      <td>10471</td>\n",
       "      <td>CrossFit Saint Helens</td>\n",
       "      <td>35</td>\n",
       "      <td>1.57</td>\n",
       "      <td>62.14</td>\n",
       "      <td>3</td>\n",
       "      <td>101</td>\n",
       "      <td>0</td>\n",
       "      <td>Women (35-39)</td>\n",
       "    </tr>\n",
       "    <tr>\n",
       "      <th>3</th>\n",
       "      <td>751083</td>\n",
       "      <td>Danila Capaccetti</td>\n",
       "      <td>Danila</td>\n",
       "      <td>Capaccetti</td>\n",
       "      <td>NaN</td>\n",
       "      <td>F</td>\n",
       "      <td>pukie.png</td>\n",
       "      <td>IT</td>\n",
       "      <td>Italy</td>\n",
       "      <td>19</td>\n",
       "      <td>9329</td>\n",
       "      <td>CrossFit Black Shark</td>\n",
       "      <td>35</td>\n",
       "      <td>1.70</td>\n",
       "      <td>71.00</td>\n",
       "      <td>4</td>\n",
       "      <td>139</td>\n",
       "      <td>0</td>\n",
       "      <td>Women (35-39)</td>\n",
       "    </tr>\n",
       "    <tr>\n",
       "      <th>4</th>\n",
       "      <td>313257</td>\n",
       "      <td>Hope Cicero</td>\n",
       "      <td>Hope</td>\n",
       "      <td>Cicero</td>\n",
       "      <td>NaN</td>\n",
       "      <td>F</td>\n",
       "      <td>f204b-P313257_1-184.jpg</td>\n",
       "      <td>US</td>\n",
       "      <td>United States</td>\n",
       "      <td>19</td>\n",
       "      <td>438</td>\n",
       "      <td>CrossFit Billings</td>\n",
       "      <td>36</td>\n",
       "      <td>1.55</td>\n",
       "      <td>61.23</td>\n",
       "      <td>5</td>\n",
       "      <td>176</td>\n",
       "      <td>0</td>\n",
       "      <td>Women (35-39)</td>\n",
       "    </tr>\n",
       "  </tbody>\n",
       "</table>\n",
       "</div>"
      ],
      "text/plain": [
       "   competitorid     competitorname firstname    lastname postcompstatus  \\\n",
       "0          2536    Samantha Briggs  Samantha      Briggs       accepted   \n",
       "1        485089    Renata Pimentel    Renata    Pimentel       accepted   \n",
       "2         16973    Carleen Mathews   Carleen     Mathews            NaN   \n",
       "3        751083  Danila Capaccetti    Danila  Capaccetti            NaN   \n",
       "4        313257        Hope Cicero      Hope      Cicero            NaN   \n",
       "\n",
       "  gender          profilepics3key countryoforigincode countryoforiginname  \\\n",
       "0      F   0e63d-P2536_14-184.jpg                  GB      United Kingdom   \n",
       "1      F  04e97-P485089_5-184.jpg                  BR              Brazil   \n",
       "2      F   b663a-P16973_6-184.jpg                  US       United States   \n",
       "3      F                pukie.png                  IT               Italy   \n",
       "4      F  f204b-P313257_1-184.jpg                  US       United States   \n",
       "\n",
       "   divisionid  affiliateid          affiliatename  age  height  weight  \\\n",
       "0          19         4098    CrossFit Black Five   37    1.70   61.23   \n",
       "1          19        15868        CrossFit Gurkha   36    1.74   73.00   \n",
       "2          19        10471  CrossFit Saint Helens   35    1.57   62.14   \n",
       "3          19         9329   CrossFit Black Shark   35    1.70   71.00   \n",
       "4          19          438      CrossFit Billings   36    1.55   61.23   \n",
       "\n",
       "   overallrank  overallscore  is_scaled       division  \n",
       "0            1            33          0  Women (35-39)  \n",
       "1            2            66          0  Women (35-39)  \n",
       "2            3           101          0  Women (35-39)  \n",
       "3            4           139          0  Women (35-39)  \n",
       "4            5           176          0  Women (35-39)  "
      ]
     },
     "execution_count": 104,
     "metadata": {},
     "output_type": "execute_result"
    }
   ],
   "source": [
    "crossfit_open_athletes_2019 = read_file_csv(crossfit_open_athletes_2019_file)\n",
    "crossfit_open_athletes_2019.head()"
   ]
  },
  {
   "cell_type": "markdown",
   "metadata": {},
   "source": [
    "#### Select Meaningful Columns"
   ]
  },
  {
   "cell_type": "code",
   "execution_count": 106,
   "metadata": {},
   "outputs": [],
   "source": [
    "columns_to_drop = ['competitorname'\n",
    "                   , 'firstname'\n",
    "                   , 'lastname'\n",
    "                   , 'postcompstatus'\n",
    "                   , 'profilepics3key'\n",
    "                   , 'countryoforigincode'\n",
    "                   , 'affiliatename'\n",
    "                   , 'divisionid'\n",
    "]"
   ]
  },
  {
   "cell_type": "code",
   "execution_count": 107,
   "metadata": {},
   "outputs": [],
   "source": [
    "crossfit_open_athletes_2019_filtered = crossfit_open_athletes_2019.drop(columns_to_drop, axis=1)"
   ]
  },
  {
   "cell_type": "markdown",
   "metadata": {},
   "source": [
    "### Athletes Characteristics"
   ]
  },
  {
   "cell_type": "code",
   "execution_count": 108,
   "metadata": {
    "scrolled": false
   },
   "outputs": [
    {
     "data": {
      "text/html": [
       "<div>\n",
       "<style scoped>\n",
       "    .dataframe tbody tr th:only-of-type {\n",
       "        vertical-align: middle;\n",
       "    }\n",
       "\n",
       "    .dataframe tbody tr th {\n",
       "        vertical-align: top;\n",
       "    }\n",
       "\n",
       "    .dataframe thead th {\n",
       "        text-align: right;\n",
       "    }\n",
       "</style>\n",
       "<table border=\"1\" class=\"dataframe\">\n",
       "  <thead>\n",
       "    <tr style=\"text-align: right;\">\n",
       "      <th></th>\n",
       "      <th>competitorid</th>\n",
       "      <th>gender</th>\n",
       "      <th>countryoforiginname</th>\n",
       "      <th>affiliateid</th>\n",
       "      <th>age</th>\n",
       "      <th>height</th>\n",
       "      <th>weight</th>\n",
       "      <th>overallrank</th>\n",
       "      <th>overallscore</th>\n",
       "      <th>is_scaled</th>\n",
       "      <th>division</th>\n",
       "    </tr>\n",
       "  </thead>\n",
       "  <tbody>\n",
       "    <tr>\n",
       "      <th>0</th>\n",
       "      <td>2536</td>\n",
       "      <td>F</td>\n",
       "      <td>United Kingdom</td>\n",
       "      <td>4098</td>\n",
       "      <td>37</td>\n",
       "      <td>1.70</td>\n",
       "      <td>61.23</td>\n",
       "      <td>1</td>\n",
       "      <td>33</td>\n",
       "      <td>0</td>\n",
       "      <td>Women (35-39)</td>\n",
       "    </tr>\n",
       "    <tr>\n",
       "      <th>1</th>\n",
       "      <td>485089</td>\n",
       "      <td>F</td>\n",
       "      <td>Brazil</td>\n",
       "      <td>15868</td>\n",
       "      <td>36</td>\n",
       "      <td>1.74</td>\n",
       "      <td>73.00</td>\n",
       "      <td>2</td>\n",
       "      <td>66</td>\n",
       "      <td>0</td>\n",
       "      <td>Women (35-39)</td>\n",
       "    </tr>\n",
       "    <tr>\n",
       "      <th>2</th>\n",
       "      <td>16973</td>\n",
       "      <td>F</td>\n",
       "      <td>United States</td>\n",
       "      <td>10471</td>\n",
       "      <td>35</td>\n",
       "      <td>1.57</td>\n",
       "      <td>62.14</td>\n",
       "      <td>3</td>\n",
       "      <td>101</td>\n",
       "      <td>0</td>\n",
       "      <td>Women (35-39)</td>\n",
       "    </tr>\n",
       "    <tr>\n",
       "      <th>3</th>\n",
       "      <td>751083</td>\n",
       "      <td>F</td>\n",
       "      <td>Italy</td>\n",
       "      <td>9329</td>\n",
       "      <td>35</td>\n",
       "      <td>1.70</td>\n",
       "      <td>71.00</td>\n",
       "      <td>4</td>\n",
       "      <td>139</td>\n",
       "      <td>0</td>\n",
       "      <td>Women (35-39)</td>\n",
       "    </tr>\n",
       "    <tr>\n",
       "      <th>4</th>\n",
       "      <td>313257</td>\n",
       "      <td>F</td>\n",
       "      <td>United States</td>\n",
       "      <td>438</td>\n",
       "      <td>36</td>\n",
       "      <td>1.55</td>\n",
       "      <td>61.23</td>\n",
       "      <td>5</td>\n",
       "      <td>176</td>\n",
       "      <td>0</td>\n",
       "      <td>Women (35-39)</td>\n",
       "    </tr>\n",
       "  </tbody>\n",
       "</table>\n",
       "</div>"
      ],
      "text/plain": [
       "   competitorid gender countryoforiginname  affiliateid  age  height  weight  \\\n",
       "0          2536      F      United Kingdom         4098   37    1.70   61.23   \n",
       "1        485089      F              Brazil        15868   36    1.74   73.00   \n",
       "2         16973      F       United States        10471   35    1.57   62.14   \n",
       "3        751083      F               Italy         9329   35    1.70   71.00   \n",
       "4        313257      F       United States          438   36    1.55   61.23   \n",
       "\n",
       "   overallrank  overallscore  is_scaled       division  \n",
       "0            1            33          0  Women (35-39)  \n",
       "1            2            66          0  Women (35-39)  \n",
       "2            3           101          0  Women (35-39)  \n",
       "3            4           139          0  Women (35-39)  \n",
       "4            5           176          0  Women (35-39)  "
      ]
     },
     "execution_count": 108,
     "metadata": {},
     "output_type": "execute_result"
    }
   ],
   "source": [
    "crossfit_open_athletes_2019_filtered.head()"
   ]
  },
  {
   "cell_type": "code",
   "execution_count": 115,
   "metadata": {},
   "outputs": [
    {
     "data": {
      "text/plain": [
       "competitorid           0.000000\n",
       "gender                 0.000000\n",
       "countryoforiginname    0.000000\n",
       "affiliateid            0.000000\n",
       "age                    0.000000\n",
       "height                 0.480642\n",
       "weight                 0.434642\n",
       "overallrank            0.000000\n",
       "overallscore           0.000000\n",
       "is_scaled              0.000000\n",
       "division               0.000000\n",
       "dtype: float64"
      ]
     },
     "execution_count": 115,
     "metadata": {},
     "output_type": "execute_result"
    }
   ],
   "source": [
    "crossfit_open_athletes_2019_filtered.isna().mean()"
   ]
  },
  {
   "cell_type": "code",
   "execution_count": 116,
   "metadata": {},
   "outputs": [
    {
     "data": {
      "text/plain": [
       "0.8573395678696124"
      ]
     },
     "execution_count": 116,
     "metadata": {},
     "output_type": "execute_result"
    }
   ],
   "source": [
    "crossfit_open_athletes_2019_filtered[crossfit_open_athletes_2019_filtered.height.isna()].weight.isna().mean()"
   ]
  },
  {
   "cell_type": "code",
   "execution_count": 117,
   "metadata": {
    "scrolled": true
   },
   "outputs": [
    {
     "data": {
      "text/plain": [
       "count    297412.000000\n",
       "mean          1.738713\n",
       "std           0.096774\n",
       "min           1.500000\n",
       "25%           1.680000\n",
       "50%           1.750000\n",
       "75%           1.800000\n",
       "max           1.960000\n",
       "Name: height, dtype: float64"
      ]
     },
     "execution_count": 117,
     "metadata": {},
     "output_type": "execute_result"
    }
   ],
   "source": [
    "crossfit_open_athletes_2019_filtered.height.describe()"
   ]
  },
  {
   "cell_type": "code",
   "execution_count": 118,
   "metadata": {},
   "outputs": [],
   "source": [
    "height_lower_cap = crossfit_open_athletes_2019_filtered.height.quantile(0.02) # 1.5 m\n",
    "height_upper_cap = crossfit_open_athletes_2019_filtered.height.quantile(0.99) # 1.96 m"
   ]
  },
  {
   "cell_type": "code",
   "execution_count": 124,
   "metadata": {},
   "outputs": [
    {
     "data": {
      "image/png": "[encoded data removed]",
      "text/plain": [
       "<Figure size 432x288 with 1 Axes>"
      ]
     },
     "metadata": {
      "needs_background": "light"
     },
     "output_type": "display_data"
    }
   ],
   "source": [
    "crossfit_open_athletes_2019_filtered.height.plot.hist(bins = 10,range=(height_lower_cap, height_upper_cap));"
   ]
  },
  {
   "cell_type": "code",
   "execution_count": 120,
   "metadata": {},
   "outputs": [],
   "source": [
    "crossfit_open_athletes_2019_filtered \\\n",
    "    .loc[~crossfit_open_athletes_2019_filtered.height.between(height_lower_cap,height_upper_cap),\"height\"]= np.NaN"
   ]
  },
  {
   "cell_type": "code",
   "execution_count": 125,
   "metadata": {},
   "outputs": [
    {
     "data": {
      "text/plain": [
       "count    323754.000000\n",
       "mean         78.343412\n",
       "std          44.720039\n",
       "min       -9054.150000\n",
       "25%          67.000000\n",
       "50%          78.930000\n",
       "75%          88.450000\n",
       "max       16960.000000\n",
       "Name: weight, dtype: float64"
      ]
     },
     "execution_count": 125,
     "metadata": {},
     "output_type": "execute_result"
    }
   ],
   "source": [
    "crossfit_open_athletes_2019_filtered.weight.describe()"
   ]
  },
  {
   "cell_type": "code",
   "execution_count": 129,
   "metadata": {},
   "outputs": [],
   "source": [
    "weight_lower_cap = crossfit_open_athletes_2019_filtered.weight.quantile(0.01) # 51 kg\n",
    "weight_upper_cap = crossfit_open_athletes_2019_filtered.weight.quantile(0.99) # 120.2 kg"
   ]
  },
  {
   "cell_type": "code",
   "execution_count": 134,
   "metadata": {},
   "outputs": [
    {
     "data": {
      "image/png": "[encoded data removed]",
      "text/plain": [
       "<Figure size 432x288 with 1 Axes>"
      ]
     },
     "metadata": {
      "needs_background": "light"
     },
     "output_type": "display_data"
    }
   ],
   "source": [
    "crossfit_open_athletes_2019_filtered.weight.plot.hist(bins = 10,range=(weight_lower_cap, weight_upper_cap));"
   ]
  },
  {
   "cell_type": "code",
   "execution_count": 121,
   "metadata": {},
   "outputs": [
    {
     "data": {
      "text/plain": [
       "competitorid           0.000000\n",
       "gender                 0.000000\n",
       "countryoforiginname    0.000000\n",
       "affiliateid            0.000000\n",
       "age                    0.000000\n",
       "height                 0.486724\n",
       "weight                 0.434642\n",
       "overallrank            0.000000\n",
       "overallscore           0.000000\n",
       "is_scaled              0.000000\n",
       "division               0.000000\n",
       "dtype: float64"
      ]
     },
     "execution_count": 121,
     "metadata": {},
     "output_type": "execute_result"
    }
   ],
   "source": [
    "crossfit_open_athletes_2019_filtered.isna().mean()"
   ]
  },
  {
   "cell_type": "code",
   "execution_count": 31,
   "metadata": {},
   "outputs": [
    {
     "ename": "ImportError",
     "evalue": "cannot import name 'KNNImputer' from 'sklearn.impute' (/opt/anaconda3/lib/python3.7/site-packages/sklearn/impute/__init__.py)",
     "output_type": "error",
     "traceback": [
      "\u001b[0;31m---------------------------------------------------------------------------\u001b[0m",
      "\u001b[0;31mImportError\u001b[0m                               Traceback (most recent call last)",
      "\u001b[0;32m<ipython-input-31-90ef51b7619b>\u001b[0m in \u001b[0;36m<module>\u001b[0;34m\u001b[0m\n\u001b[0;32m----> 1\u001b[0;31m \u001b[0;32mfrom\u001b[0m \u001b[0msklearn\u001b[0m\u001b[0;34m.\u001b[0m\u001b[0mimpute\u001b[0m \u001b[0;32mimport\u001b[0m \u001b[0mKNNImputer\u001b[0m\u001b[0;34m\u001b[0m\u001b[0;34m\u001b[0m\u001b[0m\n\u001b[0m",
      "\u001b[0;31mImportError\u001b[0m: cannot import name 'KNNImputer' from 'sklearn.impute' (/opt/anaconda3/lib/python3.7/site-packages/sklearn/impute/__init__.py)"
     ]
    }
   ],
   "source": [
    "from sklearn.impute import KNNImputer"
   ]
  },
  {
   "cell_type": "code",
   "execution_count": 30,
   "metadata": {},
   "outputs": [
    {
     "ename": "ModuleNotFoundError",
     "evalue": "No module named 'sklearn.impute.KNNImputer'",
     "output_type": "error",
     "traceback": [
      "\u001b[0;31m---------------------------------------------------------------------------\u001b[0m",
      "\u001b[0;31mModuleNotFoundError\u001b[0m                       Traceback (most recent call last)",
      "\u001b[0;32m<ipython-input-30-43e5539440a3>\u001b[0m in \u001b[0;36m<module>\u001b[0;34m\u001b[0m\n\u001b[0;32m----> 1\u001b[0;31m \u001b[0;32mimport\u001b[0m \u001b[0msklearn\u001b[0m\u001b[0;34m.\u001b[0m\u001b[0mimpute\u001b[0m\u001b[0;34m.\u001b[0m\u001b[0mKNNImputer\u001b[0m \u001b[0;32mas\u001b[0m \u001b[0mKNNImputer\u001b[0m\u001b[0;34m\u001b[0m\u001b[0;34m\u001b[0m\u001b[0m\n\u001b[0m\u001b[1;32m      2\u001b[0m \u001b[0mimputer\u001b[0m \u001b[0;34m=\u001b[0m \u001b[0mKNNImputer\u001b[0m\u001b[0;34m(\u001b[0m\u001b[0mmissing_values\u001b[0m\u001b[0;34m=\u001b[0m\u001b[0mnp\u001b[0m\u001b[0;34m.\u001b[0m\u001b[0mnan\u001b[0m\u001b[0;34m,\u001b[0m\u001b[0mn_neighbors\u001b[0m\u001b[0;34m=\u001b[0m\u001b[0;36m10\u001b[0m\u001b[0;34m,\u001b[0m\u001b[0mweights\u001b[0m\u001b[0;34m=\u001b[0m\u001b[0;34m'distance'\u001b[0m\u001b[0;34m,\u001b[0m\u001b[0madd_indicator\u001b[0m\u001b[0;34m=\u001b[0m\u001b[0;32mTrue\u001b[0m\u001b[0;34m)\u001b[0m\u001b[0;34m\u001b[0m\u001b[0;34m\u001b[0m\u001b[0m\n\u001b[1;32m      3\u001b[0m \u001b[0mcrossfit_open_athletes_2019_imputed\u001b[0m\u001b[0;34m=\u001b[0m\u001b[0mimputer\u001b[0m\u001b[0;34m.\u001b[0m\u001b[0mfit_transform\u001b[0m\u001b[0;34m(\u001b[0m\u001b[0mcrossfit_open_athletes_2019_filtered\u001b[0m\u001b[0;34m)\u001b[0m\u001b[0;34m\u001b[0m\u001b[0;34m\u001b[0m\u001b[0m\n",
      "\u001b[0;31mModuleNotFoundError\u001b[0m: No module named 'sklearn.impute.KNNImputer'"
     ]
    }
   ],
   "source": [
    "import sklearn.preprocessing.imputation. as KNNImputer\n",
    "imputer = KNNImputer(missing_values=np.nan,n_neighbors=10,weights='distance',add_indicator=True)\n",
    "crossfit_open_athletes_2019_imputed=imputer.fit_transform(crossfit_open_athletes_2019_filtered)"
   ]
  },
  {
   "cell_type": "code",
   "execution_count": 24,
   "metadata": {},
   "outputs": [],
   "source": [
    "total_number_of_athletes_2019 = crossfit_open_athletes_2019_filtered.competitorid.count()"
   ]
  },
  {
   "cell_type": "code",
   "execution_count": 25,
   "metadata": {},
   "outputs": [
    {
     "data": {
      "text/plain": [
       "572653"
      ]
     },
     "execution_count": 25,
     "metadata": {},
     "output_type": "execute_result"
    }
   ],
   "source": [
    "total_number_of_athletes_2019"
   ]
  },
  {
   "cell_type": "code",
   "execution_count": 13,
   "metadata": {
    "scrolled": true
   },
   "outputs": [
    {
     "data": {
      "image/png": "[encoded data removed]",
      "text/plain": [
       "<Figure size 288x288 with 1 Axes>"
      ]
     },
     "metadata": {},
     "output_type": "display_data"
    }
   ],
   "source": [
    "%matplotlib inline\n",
    "crossfit_open_athletes_2019_filtered.gender.value_counts().plot(kind='pie'\n",
    "                                                                , figsize=(4,4)\n",
    "                                                                , autopct='%1.0f%%'\n",
    "                                                                , pctdistance=0.5\n",
    "                                                                , title='Participation by Gender');"
   ]
  },
  {
   "cell_type": "code",
   "execution_count": 14,
   "metadata": {},
   "outputs": [],
   "source": [
    "%matplotlib inline\n",
    "participation_by_country = crossfit_open_athletes_2019_filtered.countryoforiginname.value_counts()"
   ]
  },
  {
   "cell_type": "code",
   "execution_count": 15,
   "metadata": {},
   "outputs": [],
   "source": [
    "top_participation_countries = participation_by_country.sort_values(ascending=False).head(10)\n",
    "min_participation_countries = participation_by_country.sort_values(ascending=False).tail(10)"
   ]
  },
  {
   "cell_type": "code",
   "execution_count": 16,
   "metadata": {},
   "outputs": [],
   "source": [
    "top_countries_df = crossfit_open_athletes_2019_filtered[[\"competitorid\",\"countryoforiginname\"]]"
   ]
  },
  {
   "cell_type": "code",
   "execution_count": 69,
   "metadata": {},
   "outputs": [
    {
     "data": {
      "image/png": "[encoded data removed]",
      "text/plain": [
       "<Figure size 288x288 with 1 Axes>"
      ]
     },
     "metadata": {},
     "output_type": "display_data"
    }
   ],
   "source": [
    "top_participation_countries.plot(kind=\"pie\"\n",
    "                                 , figsize=(4,4)\n",
    "                                 , title='Top Participation by Country');"
   ]
  },
  {
   "cell_type": "code",
   "execution_count": 11,
   "metadata": {},
   "outputs": [
    {
     "data": {
      "text/plain": [
       "Text(0, 0.5, 'Flights')"
      ]
     },
     "execution_count": 11,
     "metadata": {},
     "output_type": "execute_result"
    },
    {
     "data": {
      "image/png": "[encoded data removed]",
      "text/plain": [
       "<Figure size 432x288 with 1 Axes>"
      ]
     },
     "metadata": {
      "needs_background": "light"
     },
     "output_type": "display_data"
    }
   ],
   "source": [
    "# seaborn histogram\n",
    "sns.distplot(crossfit_open_athletes_2019_filtered['division'], hist=True, kde=False, \n",
    "             bins=int(180/5), color = 'blue',\n",
    "             hist_kws={'edgecolor':'black'})\n",
    "# Add labels\n",
    "plt.title('Countries by Athlete Count')\n",
    "plt.xlabel('Delay (min)')\n",
    "plt.ylabel('Flights')"
   ]
  },
  {
   "cell_type": "code",
   "execution_count": 7,
   "metadata": {},
   "outputs": [
    {
     "data": {
      "text/html": [
       "<div>\n",
       "<style scoped>\n",
       "    .dataframe tbody tr th:only-of-type {\n",
       "        vertical-align: middle;\n",
       "    }\n",
       "\n",
       "    .dataframe tbody tr th {\n",
       "        vertical-align: top;\n",
       "    }\n",
       "\n",
       "    .dataframe thead th {\n",
       "        text-align: right;\n",
       "    }\n",
       "</style>\n",
       "<table border=\"1\" class=\"dataframe\">\n",
       "  <thead>\n",
       "    <tr style=\"text-align: right;\">\n",
       "      <th></th>\n",
       "      <th>affiliate</th>\n",
       "      <th>breakdown</th>\n",
       "      <th>competitorid</th>\n",
       "      <th>division</th>\n",
       "      <th>is_scaled</th>\n",
       "      <th>judge</th>\n",
       "      <th>ordinal</th>\n",
       "      <th>rank</th>\n",
       "      <th>scaled</th>\n",
       "      <th>score</th>\n",
       "      <th>scoredisplay</th>\n",
       "      <th>scoreidentifier</th>\n",
       "      <th>time</th>\n",
       "    </tr>\n",
       "  </thead>\n",
       "  <tbody>\n",
       "    <tr>\n",
       "      <td>0</td>\n",
       "      <td>CrossFit RDU</td>\n",
       "      <td>9 rounds +\\n10 wall-ball shots\\n</td>\n",
       "      <td>96511</td>\n",
       "      <td>Men (45-49)</td>\n",
       "      <td>0</td>\n",
       "      <td>Erin Miller</td>\n",
       "      <td>1</td>\n",
       "      <td>1</td>\n",
       "      <td>0</td>\n",
       "      <td>13520000</td>\n",
       "      <td>352 reps</td>\n",
       "      <td>27f30f9a8c0a564ae799</td>\n",
       "      <td>NaN</td>\n",
       "    </tr>\n",
       "    <tr>\n",
       "      <td>1</td>\n",
       "      <td>CrossFit RDU</td>\n",
       "      <td>Within 16 minutes:\\n3 rounds +\\n25 toes-to-bar...</td>\n",
       "      <td>96511</td>\n",
       "      <td>Men (45-49)</td>\n",
       "      <td>0</td>\n",
       "      <td>Harper Thorsen</td>\n",
       "      <td>2</td>\n",
       "      <td>4</td>\n",
       "      <td>0</td>\n",
       "      <td>13420368</td>\n",
       "      <td>342 reps</td>\n",
       "      <td>0ed3d1264f25a8f1890d</td>\n",
       "      <td>NaN</td>\n",
       "    </tr>\n",
       "    <tr>\n",
       "      <td>2</td>\n",
       "      <td>CrossFit RDU</td>\n",
       "      <td>200-ft. OH lunge\\n50 box step-ups\\n50 strict H...</td>\n",
       "      <td>96511</td>\n",
       "      <td>Men (45-49)</td>\n",
       "      <td>0</td>\n",
       "      <td>Harper Thorsen</td>\n",
       "      <td>3</td>\n",
       "      <td>1</td>\n",
       "      <td>0</td>\n",
       "      <td>11800018</td>\n",
       "      <td>9:42</td>\n",
       "      <td>f2a143399a330c95321b</td>\n",
       "      <td>582.0</td>\n",
       "    </tr>\n",
       "    <tr>\n",
       "      <td>3</td>\n",
       "      <td>CrossFit RDU</td>\n",
       "      <td>132 reps\\n6 rounds</td>\n",
       "      <td>96511</td>\n",
       "      <td>Men (45-49)</td>\n",
       "      <td>0</td>\n",
       "      <td>Harper Thorsen</td>\n",
       "      <td>4</td>\n",
       "      <td>36</td>\n",
       "      <td>0</td>\n",
       "      <td>11320009</td>\n",
       "      <td>11:51</td>\n",
       "      <td>89101e401c6c85997363</td>\n",
       "      <td>711.0</td>\n",
       "    </tr>\n",
       "    <tr>\n",
       "      <td>4</td>\n",
       "      <td>CrossFit RDU</td>\n",
       "      <td>210 reps</td>\n",
       "      <td>96511</td>\n",
       "      <td>Men (45-49)</td>\n",
       "      <td>0</td>\n",
       "      <td>Harper Thorsen</td>\n",
       "      <td>5</td>\n",
       "      <td>1</td>\n",
       "      <td>0</td>\n",
       "      <td>12100573</td>\n",
       "      <td>10:27</td>\n",
       "      <td>f7588c9174f1fe90f5c4</td>\n",
       "      <td>627.0</td>\n",
       "    </tr>\n",
       "  </tbody>\n",
       "</table>\n",
       "</div>"
      ],
      "text/plain": [
       "      affiliate                                          breakdown  \\\n",
       "0  CrossFit RDU                   9 rounds +\\n10 wall-ball shots\\n   \n",
       "1  CrossFit RDU  Within 16 minutes:\\n3 rounds +\\n25 toes-to-bar...   \n",
       "2  CrossFit RDU  200-ft. OH lunge\\n50 box step-ups\\n50 strict H...   \n",
       "3  CrossFit RDU                                 132 reps\\n6 rounds   \n",
       "4  CrossFit RDU                                           210 reps   \n",
       "\n",
       "   competitorid     division  is_scaled           judge  ordinal  rank  \\\n",
       "0         96511  Men (45-49)          0     Erin Miller        1     1   \n",
       "1         96511  Men (45-49)          0  Harper Thorsen        2     4   \n",
       "2         96511  Men (45-49)          0  Harper Thorsen        3     1   \n",
       "3         96511  Men (45-49)          0  Harper Thorsen        4    36   \n",
       "4         96511  Men (45-49)          0  Harper Thorsen        5     1   \n",
       "\n",
       "   scaled     score scoredisplay       scoreidentifier   time  \n",
       "0       0  13520000     352 reps  27f30f9a8c0a564ae799    NaN  \n",
       "1       0  13420368     342 reps  0ed3d1264f25a8f1890d    NaN  \n",
       "2       0  11800018         9:42  f2a143399a330c95321b  582.0  \n",
       "3       0  11320009        11:51  89101e401c6c85997363  711.0  \n",
       "4       0  12100573        10:27  f7588c9174f1fe90f5c4  627.0  "
      ]
     },
     "execution_count": 7,
     "metadata": {},
     "output_type": "execute_result"
    }
   ],
   "source": [
    "crossfit_open_scores_2019 = read_file_csv(crossfit_open_scores_2019_file)\n",
    "crossfit_open_scores_2019.head()"
   ]
  },
  {
   "cell_type": "code",
   "execution_count": 13,
   "metadata": {},
   "outputs": [],
   "source": [
    "def join_df(left_df, right_df, on, how='inner', left_suffix='_left', right_suffix='_right'):\n",
    "    return left_df.join(other=right_df, on=on, how=how, lsuffix=left_suffix, rsuffix=right_suffix)"
   ]
  },
  {
   "cell_type": "code",
   "execution_count": 14,
   "metadata": {},
   "outputs": [],
   "source": [
    "crossfit_data_2019 = join_df(crossfit_open_athletes_2019, crossfit_open_scores_2019, on=\"competitorid\")"
   ]
  },
  {
   "cell_type": "code",
   "execution_count": 15,
   "metadata": {},
   "outputs": [
    {
     "data": {
      "text/html": [
       "<div>\n",
       "<style scoped>\n",
       "    .dataframe tbody tr th:only-of-type {\n",
       "        vertical-align: middle;\n",
       "    }\n",
       "\n",
       "    .dataframe tbody tr th {\n",
       "        vertical-align: top;\n",
       "    }\n",
       "\n",
       "    .dataframe thead th {\n",
       "        text-align: right;\n",
       "    }\n",
       "</style>\n",
       "<table border=\"1\" class=\"dataframe\">\n",
       "  <thead>\n",
       "    <tr style=\"text-align: right;\">\n",
       "      <th></th>\n",
       "      <th>competitorid</th>\n",
       "      <th>competitorname</th>\n",
       "      <th>firstname</th>\n",
       "      <th>lastname</th>\n",
       "      <th>postcompstatus</th>\n",
       "      <th>gender</th>\n",
       "      <th>profilepics3key</th>\n",
       "      <th>countryoforigincode</th>\n",
       "      <th>countryoforiginname</th>\n",
       "      <th>divisionid</th>\n",
       "      <th>affiliateid</th>\n",
       "      <th>affiliatename</th>\n",
       "      <th>age</th>\n",
       "      <th>height</th>\n",
       "      <th>weight</th>\n",
       "      <th>overallrank</th>\n",
       "      <th>overallscore</th>\n",
       "      <th>is_scaled</th>\n",
       "      <th>division</th>\n",
       "    </tr>\n",
       "  </thead>\n",
       "  <tbody>\n",
       "    <tr>\n",
       "      <td>229258</td>\n",
       "      <td>8747</td>\n",
       "      <td>Bill Grundler</td>\n",
       "      <td>Bill</td>\n",
       "      <td>Grundler</td>\n",
       "      <td>NaN</td>\n",
       "      <td>M</td>\n",
       "      <td>71e65-P8747_2-184.jpg</td>\n",
       "      <td>US</td>\n",
       "      <td>United States</td>\n",
       "      <td>5</td>\n",
       "      <td>809</td>\n",
       "      <td>CrossFit Inferno</td>\n",
       "      <td>50</td>\n",
       "      <td>1.83</td>\n",
       "      <td>88.45</td>\n",
       "      <td>1</td>\n",
       "      <td>66</td>\n",
       "      <td>0</td>\n",
       "      <td>Men (50-54)</td>\n",
       "    </tr>\n",
       "    <tr>\n",
       "      <td>246706</td>\n",
       "      <td>153604</td>\n",
       "      <td>Mathew Fraser</td>\n",
       "      <td>Mathew</td>\n",
       "      <td>Fraser</td>\n",
       "      <td>accepted</td>\n",
       "      <td>M</td>\n",
       "      <td>9e218-P153604_4-184.jpg</td>\n",
       "      <td>US</td>\n",
       "      <td>United States</td>\n",
       "      <td>1</td>\n",
       "      <td>3220</td>\n",
       "      <td>CrossFit Mayhem</td>\n",
       "      <td>29</td>\n",
       "      <td>1.70</td>\n",
       "      <td>88.45</td>\n",
       "      <td>1</td>\n",
       "      <td>66</td>\n",
       "      <td>0</td>\n",
       "      <td>Men</td>\n",
       "    </tr>\n",
       "    <tr>\n",
       "      <td>461416</td>\n",
       "      <td>536200</td>\n",
       "      <td>Carl Giuffre</td>\n",
       "      <td>Carl</td>\n",
       "      <td>Giuffre</td>\n",
       "      <td>NaN</td>\n",
       "      <td>M</td>\n",
       "      <td>21b2f-P536200_2-184.jpg</td>\n",
       "      <td>US</td>\n",
       "      <td>United States</td>\n",
       "      <td>9</td>\n",
       "      <td>3149</td>\n",
       "      <td>CrossFit Adrenaline</td>\n",
       "      <td>60</td>\n",
       "      <td>1.70</td>\n",
       "      <td>74.39</td>\n",
       "      <td>1</td>\n",
       "      <td>28</td>\n",
       "      <td>0</td>\n",
       "      <td>Men (60+)</td>\n",
       "    </tr>\n",
       "    <tr>\n",
       "      <td>465248</td>\n",
       "      <td>520317</td>\n",
       "      <td>Pierre Cleroux</td>\n",
       "      <td>Pierre</td>\n",
       "      <td>Cleroux</td>\n",
       "      <td>NaN</td>\n",
       "      <td>M</td>\n",
       "      <td>37025-P520317_1-184.jpg</td>\n",
       "      <td>CA</td>\n",
       "      <td>Canada</td>\n",
       "      <td>7</td>\n",
       "      <td>16011</td>\n",
       "      <td>CrossFit 1855</td>\n",
       "      <td>55</td>\n",
       "      <td>1.78</td>\n",
       "      <td>84.82</td>\n",
       "      <td>1</td>\n",
       "      <td>86</td>\n",
       "      <td>0</td>\n",
       "      <td>Men (55-59)</td>\n",
       "    </tr>\n",
       "    <tr>\n",
       "      <td>470495</td>\n",
       "      <td>96511</td>\n",
       "      <td>Stephen Johnson</td>\n",
       "      <td>Stephen</td>\n",
       "      <td>Johnson</td>\n",
       "      <td>NaN</td>\n",
       "      <td>M</td>\n",
       "      <td>51ed5-P96511_6-184.jpg</td>\n",
       "      <td>US</td>\n",
       "      <td>United States</td>\n",
       "      <td>3</td>\n",
       "      <td>6251</td>\n",
       "      <td>CrossFit RDU</td>\n",
       "      <td>49</td>\n",
       "      <td>1.83</td>\n",
       "      <td>96.16</td>\n",
       "      <td>1</td>\n",
       "      <td>43</td>\n",
       "      <td>0</td>\n",
       "      <td>Men (45-49)</td>\n",
       "    </tr>\n",
       "    <tr>\n",
       "      <td>488389</td>\n",
       "      <td>252855</td>\n",
       "      <td>Robbie Perovich</td>\n",
       "      <td>Robbie</td>\n",
       "      <td>Perovich</td>\n",
       "      <td>NaN</td>\n",
       "      <td>M</td>\n",
       "      <td>d03cb-P252855_3-184.jpg</td>\n",
       "      <td>CA</td>\n",
       "      <td>Canada</td>\n",
       "      <td>12</td>\n",
       "      <td>22415</td>\n",
       "      <td>Fort to Fort CrossFit</td>\n",
       "      <td>42</td>\n",
       "      <td>1.86</td>\n",
       "      <td>90.72</td>\n",
       "      <td>1</td>\n",
       "      <td>36</td>\n",
       "      <td>0</td>\n",
       "      <td>Men (40-44)</td>\n",
       "    </tr>\n",
       "    <tr>\n",
       "      <td>516773</td>\n",
       "      <td>120333</td>\n",
       "      <td>Jason Smith</td>\n",
       "      <td>Jason</td>\n",
       "      <td>Smith</td>\n",
       "      <td>accepted</td>\n",
       "      <td>M</td>\n",
       "      <td>f2583-P120333_4-184.jpg</td>\n",
       "      <td>ZA</td>\n",
       "      <td>South Africa</td>\n",
       "      <td>18</td>\n",
       "      <td>5578</td>\n",
       "      <td>CrossFit Kyalami</td>\n",
       "      <td>35</td>\n",
       "      <td>1.85</td>\n",
       "      <td>88.45</td>\n",
       "      <td>1</td>\n",
       "      <td>39</td>\n",
       "      <td>0</td>\n",
       "      <td>Men (35-39)</td>\n",
       "    </tr>\n",
       "  </tbody>\n",
       "</table>\n",
       "</div>"
      ],
      "text/plain": [
       "        competitorid   competitorname firstname  lastname postcompstatus  \\\n",
       "229258          8747    Bill Grundler      Bill  Grundler            NaN   \n",
       "246706        153604    Mathew Fraser    Mathew    Fraser       accepted   \n",
       "461416        536200     Carl Giuffre      Carl   Giuffre            NaN   \n",
       "465248        520317   Pierre Cleroux    Pierre   Cleroux            NaN   \n",
       "470495         96511  Stephen Johnson   Stephen   Johnson            NaN   \n",
       "488389        252855  Robbie Perovich    Robbie  Perovich            NaN   \n",
       "516773        120333      Jason Smith     Jason     Smith       accepted   \n",
       "\n",
       "       gender          profilepics3key countryoforigincode  \\\n",
       "229258      M    71e65-P8747_2-184.jpg                  US   \n",
       "246706      M  9e218-P153604_4-184.jpg                  US   \n",
       "461416      M  21b2f-P536200_2-184.jpg                  US   \n",
       "465248      M  37025-P520317_1-184.jpg                  CA   \n",
       "470495      M   51ed5-P96511_6-184.jpg                  US   \n",
       "488389      M  d03cb-P252855_3-184.jpg                  CA   \n",
       "516773      M  f2583-P120333_4-184.jpg                  ZA   \n",
       "\n",
       "       countryoforiginname  divisionid  affiliateid          affiliatename  \\\n",
       "229258       United States           5          809       CrossFit Inferno   \n",
       "246706       United States           1         3220        CrossFit Mayhem   \n",
       "461416       United States           9         3149    CrossFit Adrenaline   \n",
       "465248              Canada           7        16011          CrossFit 1855   \n",
       "470495       United States           3         6251           CrossFit RDU   \n",
       "488389              Canada          12        22415  Fort to Fort CrossFit   \n",
       "516773        South Africa          18         5578       CrossFit Kyalami   \n",
       "\n",
       "        age  height  weight  overallrank  overallscore  is_scaled     division  \n",
       "229258   50    1.83   88.45            1            66          0  Men (50-54)  \n",
       "246706   29    1.70   88.45            1            66          0          Men  \n",
       "461416   60    1.70   74.39            1            28          0    Men (60+)  \n",
       "465248   55    1.78   84.82            1            86          0  Men (55-59)  \n",
       "470495   49    1.83   96.16            1            43          0  Men (45-49)  \n",
       "488389   42    1.86   90.72            1            36          0  Men (40-44)  \n",
       "516773   35    1.85   88.45            1            39          0  Men (35-39)  "
      ]
     },
     "execution_count": 15,
     "metadata": {},
     "output_type": "execute_result"
    }
   ],
   "source": [
    "crossfit_open_athletes_2019[(crossfit_open_athletes_2019[\"overallrank\"]==1) \n",
    "                            & (crossfit_open_athletes_2019[\"is_scaled\"]==0)\n",
    "                            & (crossfit_open_athletes_2019[\"gender\"]==\"M\")\n",
    "                           ]"
   ]
  },
  {
   "cell_type": "code",
   "execution_count": null,
   "metadata": {},
   "outputs": [],
   "source": []
  }
 ],
 "metadata": {
  "kernelspec": {
   "display_name": "DSNanodegree",
   "language": "python",
   "name": "dsnanodegree"
  },
  "language_info": {
   "codemirror_mode": {
    "name": "ipython",
    "version": 3
   },
   "file_extension": ".py",
   "mimetype": "text/x-python",
   "name": "python",
   "nbconvert_exporter": "python",
   "pygments_lexer": "ipython3",
   "version": "3.8.2"
  }
 },
 "nbformat": 4,
 "nbformat_minor": 2
}
