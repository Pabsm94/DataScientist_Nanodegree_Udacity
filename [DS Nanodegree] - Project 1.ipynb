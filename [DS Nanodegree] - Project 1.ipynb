{
 "cells": [
  {
   "cell_type": "markdown",
   "metadata": {},
   "source": [
    "# Are YOU a Crossfit Games Athlete? This new data will let you know if YOU ARE (a) FIT."
   ]
  },
  {
   "cell_type": "markdown",
   "metadata": {},
   "source": [
    "https://medium.com/p/e83c04eb783e/edit"
   ]
  },
  {
   "cell_type": "code",
   "execution_count": 1,
   "metadata": {},
   "outputs": [],
   "source": [
    "import numpy as np\n",
    "import pandas as pd\n",
    "import matplotlib.pyplot as plt\n",
    "import seaborn as sns"
   ]
  },
  {
   "cell_type": "code",
   "execution_count": 2,
   "metadata": {},
   "outputs": [],
   "source": [
    "data_path = \"/Users/pblsnt/Documents/DataScientist_Nanodegree_Udacity/Data\"\n",
    "crossfit_data = \"/crossfit_games_data\""
   ]
  },
  {
   "cell_type": "code",
   "execution_count": 3,
   "metadata": {},
   "outputs": [],
   "source": [
    "def read_file_csv(filepath, header=0, sep=','):\n",
    "    return pd.read_csv(filepath_or_buffer=filepath, sep=sep, header=header)"
   ]
  },
  {
   "cell_type": "code",
   "execution_count": 4,
   "metadata": {},
   "outputs": [],
   "source": [
    "crossfit_open_scores_2019_file = data_path + crossfit_data + \"/2019_opens_scores.csv\"\n",
    "crossfit_open_athletes_2019_file = data_path + crossfit_data + \"/2019_opens_athletes.csv\"\n",
    "crossfit_open_scores_2020_file = data_path + crossfit_data + \"/2020_opens_scores.csv\"\n",
    "crossfit_open_athletes_2020_file = data_path + crossfit_data + \"/2020_opens_athletes.csv\""
   ]
  },
  {
   "cell_type": "markdown",
   "metadata": {},
   "source": [
    "## What does a Crossfit Athlete look like?"
   ]
  },
  {
   "cell_type": "code",
   "execution_count": 5,
   "metadata": {
    "scrolled": false
   },
   "outputs": [
    {
     "name": "stderr",
     "output_type": "stream",
     "text": [
      "/opt/anaconda3/envs/DSNanodegree/lib/python3.8/site-packages/IPython/core/interactiveshell.py:3254: DtypeWarning: Columns (4) have mixed types.Specify dtype option on import or set low_memory=False.\n",
      "  if (await self.run_code(code, result,  async_=asy)):\n"
     ]
    },
    {
     "data": {
      "text/html": [
       "<div>\n",
       "<style scoped>\n",
       "    .dataframe tbody tr th:only-of-type {\n",
       "        vertical-align: middle;\n",
       "    }\n",
       "\n",
       "    .dataframe tbody tr th {\n",
       "        vertical-align: top;\n",
       "    }\n",
       "\n",
       "    .dataframe thead th {\n",
       "        text-align: right;\n",
       "    }\n",
       "</style>\n",
       "<table border=\"1\" class=\"dataframe\">\n",
       "  <thead>\n",
       "    <tr style=\"text-align: right;\">\n",
       "      <th></th>\n",
       "      <th>competitorid</th>\n",
       "      <th>competitorname</th>\n",
       "      <th>firstname</th>\n",
       "      <th>lastname</th>\n",
       "      <th>postcompstatus</th>\n",
       "      <th>gender</th>\n",
       "      <th>profilepics3key</th>\n",
       "      <th>countryoforigincode</th>\n",
       "      <th>countryoforiginname</th>\n",
       "      <th>divisionid</th>\n",
       "      <th>affiliateid</th>\n",
       "      <th>affiliatename</th>\n",
       "      <th>age</th>\n",
       "      <th>height</th>\n",
       "      <th>weight</th>\n",
       "      <th>overallrank</th>\n",
       "      <th>overallscore</th>\n",
       "      <th>is_scaled</th>\n",
       "      <th>division</th>\n",
       "    </tr>\n",
       "  </thead>\n",
       "  <tbody>\n",
       "    <tr>\n",
       "      <th>0</th>\n",
       "      <td>2536</td>\n",
       "      <td>Samantha Briggs</td>\n",
       "      <td>Samantha</td>\n",
       "      <td>Briggs</td>\n",
       "      <td>accepted</td>\n",
       "      <td>F</td>\n",
       "      <td>0e63d-P2536_14-184.jpg</td>\n",
       "      <td>GB</td>\n",
       "      <td>United Kingdom</td>\n",
       "      <td>19</td>\n",
       "      <td>4098</td>\n",
       "      <td>CrossFit Black Five</td>\n",
       "      <td>37</td>\n",
       "      <td>1.70</td>\n",
       "      <td>61.23</td>\n",
       "      <td>1</td>\n",
       "      <td>33</td>\n",
       "      <td>0</td>\n",
       "      <td>Women (35-39)</td>\n",
       "    </tr>\n",
       "    <tr>\n",
       "      <th>1</th>\n",
       "      <td>485089</td>\n",
       "      <td>Renata Pimentel</td>\n",
       "      <td>Renata</td>\n",
       "      <td>Pimentel</td>\n",
       "      <td>accepted</td>\n",
       "      <td>F</td>\n",
       "      <td>04e97-P485089_5-184.jpg</td>\n",
       "      <td>BR</td>\n",
       "      <td>Brazil</td>\n",
       "      <td>19</td>\n",
       "      <td>15868</td>\n",
       "      <td>CrossFit Gurkha</td>\n",
       "      <td>36</td>\n",
       "      <td>1.74</td>\n",
       "      <td>73.00</td>\n",
       "      <td>2</td>\n",
       "      <td>66</td>\n",
       "      <td>0</td>\n",
       "      <td>Women (35-39)</td>\n",
       "    </tr>\n",
       "    <tr>\n",
       "      <th>2</th>\n",
       "      <td>16973</td>\n",
       "      <td>Carleen Mathews</td>\n",
       "      <td>Carleen</td>\n",
       "      <td>Mathews</td>\n",
       "      <td>NaN</td>\n",
       "      <td>F</td>\n",
       "      <td>b663a-P16973_6-184.jpg</td>\n",
       "      <td>US</td>\n",
       "      <td>United States</td>\n",
       "      <td>19</td>\n",
       "      <td>10471</td>\n",
       "      <td>CrossFit Saint Helens</td>\n",
       "      <td>35</td>\n",
       "      <td>1.57</td>\n",
       "      <td>62.14</td>\n",
       "      <td>3</td>\n",
       "      <td>101</td>\n",
       "      <td>0</td>\n",
       "      <td>Women (35-39)</td>\n",
       "    </tr>\n",
       "    <tr>\n",
       "      <th>3</th>\n",
       "      <td>751083</td>\n",
       "      <td>Danila Capaccetti</td>\n",
       "      <td>Danila</td>\n",
       "      <td>Capaccetti</td>\n",
       "      <td>NaN</td>\n",
       "      <td>F</td>\n",
       "      <td>pukie.png</td>\n",
       "      <td>IT</td>\n",
       "      <td>Italy</td>\n",
       "      <td>19</td>\n",
       "      <td>9329</td>\n",
       "      <td>CrossFit Black Shark</td>\n",
       "      <td>35</td>\n",
       "      <td>1.70</td>\n",
       "      <td>71.00</td>\n",
       "      <td>4</td>\n",
       "      <td>139</td>\n",
       "      <td>0</td>\n",
       "      <td>Women (35-39)</td>\n",
       "    </tr>\n",
       "    <tr>\n",
       "      <th>4</th>\n",
       "      <td>313257</td>\n",
       "      <td>Hope Cicero</td>\n",
       "      <td>Hope</td>\n",
       "      <td>Cicero</td>\n",
       "      <td>NaN</td>\n",
       "      <td>F</td>\n",
       "      <td>f204b-P313257_1-184.jpg</td>\n",
       "      <td>US</td>\n",
       "      <td>United States</td>\n",
       "      <td>19</td>\n",
       "      <td>438</td>\n",
       "      <td>CrossFit Billings</td>\n",
       "      <td>36</td>\n",
       "      <td>1.55</td>\n",
       "      <td>61.23</td>\n",
       "      <td>5</td>\n",
       "      <td>176</td>\n",
       "      <td>0</td>\n",
       "      <td>Women (35-39)</td>\n",
       "    </tr>\n",
       "  </tbody>\n",
       "</table>\n",
       "</div>"
      ],
      "text/plain": [
       "   competitorid     competitorname firstname    lastname postcompstatus  \\\n",
       "0          2536    Samantha Briggs  Samantha      Briggs       accepted   \n",
       "1        485089    Renata Pimentel    Renata    Pimentel       accepted   \n",
       "2         16973    Carleen Mathews   Carleen     Mathews            NaN   \n",
       "3        751083  Danila Capaccetti    Danila  Capaccetti            NaN   \n",
       "4        313257        Hope Cicero      Hope      Cicero            NaN   \n",
       "\n",
       "  gender          profilepics3key countryoforigincode countryoforiginname  \\\n",
       "0      F   0e63d-P2536_14-184.jpg                  GB      United Kingdom   \n",
       "1      F  04e97-P485089_5-184.jpg                  BR              Brazil   \n",
       "2      F   b663a-P16973_6-184.jpg                  US       United States   \n",
       "3      F                pukie.png                  IT               Italy   \n",
       "4      F  f204b-P313257_1-184.jpg                  US       United States   \n",
       "\n",
       "   divisionid  affiliateid          affiliatename  age  height  weight  \\\n",
       "0          19         4098    CrossFit Black Five   37    1.70   61.23   \n",
       "1          19        15868        CrossFit Gurkha   36    1.74   73.00   \n",
       "2          19        10471  CrossFit Saint Helens   35    1.57   62.14   \n",
       "3          19         9329   CrossFit Black Shark   35    1.70   71.00   \n",
       "4          19          438      CrossFit Billings   36    1.55   61.23   \n",
       "\n",
       "   overallrank  overallscore  is_scaled       division  \n",
       "0            1            33          0  Women (35-39)  \n",
       "1            2            66          0  Women (35-39)  \n",
       "2            3           101          0  Women (35-39)  \n",
       "3            4           139          0  Women (35-39)  \n",
       "4            5           176          0  Women (35-39)  "
      ]
     },
     "execution_count": 5,
     "metadata": {},
     "output_type": "execute_result"
    }
   ],
   "source": [
    "crossfit_open_athletes_2019 = read_file_csv(crossfit_open_athletes_2019_file)\n",
    "crossfit_open_athletes_2019.head()"
   ]
  },
  {
   "cell_type": "markdown",
   "metadata": {},
   "source": [
    "#### Select Meaningful Columns"
   ]
  },
  {
   "cell_type": "code",
   "execution_count": 6,
   "metadata": {},
   "outputs": [],
   "source": [
    "columns_to_drop = ['competitorname'\n",
    "                   , 'firstname'\n",
    "                   , 'lastname'\n",
    "                   , 'postcompstatus'\n",
    "                   , 'profilepics3key'\n",
    "                   , 'countryoforigincode'\n",
    "                   , 'affiliatename'\n",
    "                   , 'divisionid'\n",
    "]"
   ]
  },
  {
   "cell_type": "code",
   "execution_count": 7,
   "metadata": {},
   "outputs": [],
   "source": [
    "crossfit_open_athletes_2019_filtered = crossfit_open_athletes_2019.drop(columns_to_drop, axis=1)"
   ]
  },
  {
   "cell_type": "markdown",
   "metadata": {},
   "source": [
    "### Athletes Characteristics"
   ]
  },
  {
   "cell_type": "code",
   "execution_count": 8,
   "metadata": {
    "scrolled": false
   },
   "outputs": [
    {
     "data": {
      "text/html": [
       "<div>\n",
       "<style scoped>\n",
       "    .dataframe tbody tr th:only-of-type {\n",
       "        vertical-align: middle;\n",
       "    }\n",
       "\n",
       "    .dataframe tbody tr th {\n",
       "        vertical-align: top;\n",
       "    }\n",
       "\n",
       "    .dataframe thead th {\n",
       "        text-align: right;\n",
       "    }\n",
       "</style>\n",
       "<table border=\"1\" class=\"dataframe\">\n",
       "  <thead>\n",
       "    <tr style=\"text-align: right;\">\n",
       "      <th></th>\n",
       "      <th>competitorid</th>\n",
       "      <th>gender</th>\n",
       "      <th>countryoforiginname</th>\n",
       "      <th>affiliateid</th>\n",
       "      <th>age</th>\n",
       "      <th>height</th>\n",
       "      <th>weight</th>\n",
       "      <th>overallrank</th>\n",
       "      <th>overallscore</th>\n",
       "      <th>is_scaled</th>\n",
       "      <th>division</th>\n",
       "    </tr>\n",
       "  </thead>\n",
       "  <tbody>\n",
       "    <tr>\n",
       "      <th>0</th>\n",
       "      <td>2536</td>\n",
       "      <td>F</td>\n",
       "      <td>United Kingdom</td>\n",
       "      <td>4098</td>\n",
       "      <td>37</td>\n",
       "      <td>1.70</td>\n",
       "      <td>61.23</td>\n",
       "      <td>1</td>\n",
       "      <td>33</td>\n",
       "      <td>0</td>\n",
       "      <td>Women (35-39)</td>\n",
       "    </tr>\n",
       "    <tr>\n",
       "      <th>1</th>\n",
       "      <td>485089</td>\n",
       "      <td>F</td>\n",
       "      <td>Brazil</td>\n",
       "      <td>15868</td>\n",
       "      <td>36</td>\n",
       "      <td>1.74</td>\n",
       "      <td>73.00</td>\n",
       "      <td>2</td>\n",
       "      <td>66</td>\n",
       "      <td>0</td>\n",
       "      <td>Women (35-39)</td>\n",
       "    </tr>\n",
       "    <tr>\n",
       "      <th>2</th>\n",
       "      <td>16973</td>\n",
       "      <td>F</td>\n",
       "      <td>United States</td>\n",
       "      <td>10471</td>\n",
       "      <td>35</td>\n",
       "      <td>1.57</td>\n",
       "      <td>62.14</td>\n",
       "      <td>3</td>\n",
       "      <td>101</td>\n",
       "      <td>0</td>\n",
       "      <td>Women (35-39)</td>\n",
       "    </tr>\n",
       "    <tr>\n",
       "      <th>3</th>\n",
       "      <td>751083</td>\n",
       "      <td>F</td>\n",
       "      <td>Italy</td>\n",
       "      <td>9329</td>\n",
       "      <td>35</td>\n",
       "      <td>1.70</td>\n",
       "      <td>71.00</td>\n",
       "      <td>4</td>\n",
       "      <td>139</td>\n",
       "      <td>0</td>\n",
       "      <td>Women (35-39)</td>\n",
       "    </tr>\n",
       "    <tr>\n",
       "      <th>4</th>\n",
       "      <td>313257</td>\n",
       "      <td>F</td>\n",
       "      <td>United States</td>\n",
       "      <td>438</td>\n",
       "      <td>36</td>\n",
       "      <td>1.55</td>\n",
       "      <td>61.23</td>\n",
       "      <td>5</td>\n",
       "      <td>176</td>\n",
       "      <td>0</td>\n",
       "      <td>Women (35-39)</td>\n",
       "    </tr>\n",
       "  </tbody>\n",
       "</table>\n",
       "</div>"
      ],
      "text/plain": [
       "   competitorid gender countryoforiginname  affiliateid  age  height  weight  \\\n",
       "0          2536      F      United Kingdom         4098   37    1.70   61.23   \n",
       "1        485089      F              Brazil        15868   36    1.74   73.00   \n",
       "2         16973      F       United States        10471   35    1.57   62.14   \n",
       "3        751083      F               Italy         9329   35    1.70   71.00   \n",
       "4        313257      F       United States          438   36    1.55   61.23   \n",
       "\n",
       "   overallrank  overallscore  is_scaled       division  \n",
       "0            1            33          0  Women (35-39)  \n",
       "1            2            66          0  Women (35-39)  \n",
       "2            3           101          0  Women (35-39)  \n",
       "3            4           139          0  Women (35-39)  \n",
       "4            5           176          0  Women (35-39)  "
      ]
     },
     "execution_count": 8,
     "metadata": {},
     "output_type": "execute_result"
    }
   ],
   "source": [
    "crossfit_open_athletes_2019_filtered.head()"
   ]
  },
  {
   "cell_type": "code",
   "execution_count": 24,
   "metadata": {},
   "outputs": [],
   "source": [
    "total_number_of_athletes_2019 = crossfit_open_athletes_2019_filtered.competitorid.count()"
   ]
  },
  {
   "cell_type": "code",
   "execution_count": 9,
   "metadata": {},
   "outputs": [
    {
     "data": {
      "text/plain": [
       "competitorid           0.000000\n",
       "gender                 0.000000\n",
       "countryoforiginname    0.000000\n",
       "affiliateid            0.000000\n",
       "age                    0.000000\n",
       "height                 0.467700\n",
       "weight                 0.434642\n",
       "overallrank            0.000000\n",
       "overallscore           0.000000\n",
       "is_scaled              0.000000\n",
       "division               0.000000\n",
       "dtype: float64"
      ]
     },
     "execution_count": 9,
     "metadata": {},
     "output_type": "execute_result"
    }
   ],
   "source": [
    "crossfit_open_athletes_2019_filtered.isna().mean()"
   ]
  },
  {
   "cell_type": "code",
   "execution_count": 10,
   "metadata": {},
   "outputs": [
    {
     "data": {
      "text/plain": [
       "0.8797408804092148"
      ]
     },
     "execution_count": 10,
     "metadata": {},
     "output_type": "execute_result"
    }
   ],
   "source": [
    "crossfit_open_athletes_2019_filtered[crossfit_open_athletes_2019_filtered.height.isna()].weight.isna().mean()"
   ]
  },
  {
   "cell_type": "code",
   "execution_count": 11,
   "metadata": {
    "scrolled": true
   },
   "outputs": [
    {
     "data": {
      "text/plain": [
       "count    304823.000000\n",
       "mean          1.743674\n",
       "std           1.439308\n",
       "min           0.010000\n",
       "25%           1.670000\n",
       "50%           1.750000\n",
       "75%           1.800000\n",
       "max         266.240000\n",
       "Name: height, dtype: float64"
      ]
     },
     "execution_count": 11,
     "metadata": {},
     "output_type": "execute_result"
    }
   ],
   "source": [
    "crossfit_open_athletes_2019_filtered.height.describe()"
   ]
  },
  {
   "cell_type": "code",
   "execution_count": 12,
   "metadata": {},
   "outputs": [],
   "source": [
    "height_lower_cap = crossfit_open_athletes_2019_filtered.height.quantile(0.02) # 1.5 m\n",
    "height_upper_cap = crossfit_open_athletes_2019_filtered.height.quantile(0.99) # 1.96 m"
   ]
  },
  {
   "cell_type": "code",
   "execution_count": 13,
   "metadata": {},
   "outputs": [
    {
     "data": {
      "image/png": "[encoded data removed]",
      "text/plain": [
       "<Figure size 432x288 with 1 Axes>"
      ]
     },
     "metadata": {
      "needs_background": "light"
     },
     "output_type": "display_data"
    }
   ],
   "source": [
    "crossfit_open_athletes_2019_filtered.height.plot.hist(bins = 10,range=(height_lower_cap, height_upper_cap));"
   ]
  },
  {
   "cell_type": "code",
   "execution_count": 14,
   "metadata": {},
   "outputs": [],
   "source": [
    "crossfit_open_athletes_2019_filtered \\\n",
    "    .loc[~crossfit_open_athletes_2019_filtered.height.between(height_lower_cap,height_upper_cap),\"height\"]= np.NaN"
   ]
  },
  {
   "cell_type": "code",
   "execution_count": 15,
   "metadata": {},
   "outputs": [
    {
     "data": {
      "text/plain": [
       "count    323754.000000\n",
       "mean         78.343412\n",
       "std          44.720039\n",
       "min       -9054.150000\n",
       "25%          67.000000\n",
       "50%          78.930000\n",
       "75%          88.450000\n",
       "max       16960.000000\n",
       "Name: weight, dtype: float64"
      ]
     },
     "execution_count": 15,
     "metadata": {},
     "output_type": "execute_result"
    }
   ],
   "source": [
    "crossfit_open_athletes_2019_filtered.weight.describe()"
   ]
  },
  {
   "cell_type": "code",
   "execution_count": 16,
   "metadata": {},
   "outputs": [],
   "source": [
    "weight_lower_cap = crossfit_open_athletes_2019_filtered.weight.quantile(0.01) # 51 kg\n",
    "weight_upper_cap = crossfit_open_athletes_2019_filtered.weight.quantile(0.99) # 120.2 kg"
   ]
  },
  {
   "cell_type": "code",
   "execution_count": 17,
   "metadata": {},
   "outputs": [
    {
     "data": {
      "image/png": "[encoded data removed]",
      "text/plain": [
       "<Figure size 432x288 with 1 Axes>"
      ]
     },
     "metadata": {
      "needs_background": "light"
     },
     "output_type": "display_data"
    }
   ],
   "source": [
    "crossfit_open_athletes_2019_filtered.weight.plot.hist(bins = 10,range=(weight_lower_cap, weight_upper_cap));"
   ]
  },
  {
   "cell_type": "code",
   "execution_count": 18,
   "metadata": {},
   "outputs": [],
   "source": [
    "crossfit_open_athletes_2019_filtered \\\n",
    "    .loc[~crossfit_open_athletes_2019_filtered.weight.between(weight_lower_cap,weight_upper_cap),\"weight\"]= np.NaN"
   ]
  },
  {
   "cell_type": "code",
   "execution_count": 20,
   "metadata": {},
   "outputs": [
    {
     "data": {
      "text/plain": [
       "count    297412.000000\n",
       "mean          1.738713\n",
       "std           0.096774\n",
       "min           1.500000\n",
       "25%           1.680000\n",
       "50%           1.750000\n",
       "75%           1.800000\n",
       "max           1.960000\n",
       "Name: height, dtype: float64"
      ]
     },
     "execution_count": 20,
     "metadata": {},
     "output_type": "execute_result"
    }
   ],
   "source": [
    "crossfit_open_athletes_2019_filtered.height.describe()"
   ]
  },
  {
   "cell_type": "code",
   "execution_count": 21,
   "metadata": {},
   "outputs": [
    {
     "data": {
      "text/plain": [
       "count    318034.000000\n",
       "mean         78.156592\n",
       "std          14.386518\n",
       "min          47.630000\n",
       "25%          67.000000\n",
       "50%          78.930000\n",
       "75%          88.000000\n",
       "max         120.200000\n",
       "Name: weight, dtype: float64"
      ]
     },
     "execution_count": 21,
     "metadata": {},
     "output_type": "execute_result"
    }
   ],
   "source": [
    "crossfit_open_athletes_2019_filtered.weight.describe()"
   ]
  },
  {
   "cell_type": "code",
   "execution_count": 22,
   "metadata": {},
   "outputs": [
    {
     "data": {
      "text/plain": [
       "competitorid           0.000000\n",
       "gender                 0.000000\n",
       "countryoforiginname    0.000000\n",
       "affiliateid            0.000000\n",
       "age                    0.000000\n",
       "height                 0.480642\n",
       "weight                 0.444631\n",
       "overallrank            0.000000\n",
       "overallscore           0.000000\n",
       "is_scaled              0.000000\n",
       "division               0.000000\n",
       "dtype: float64"
      ]
     },
     "execution_count": 22,
     "metadata": {},
     "output_type": "execute_result"
    }
   ],
   "source": [
    "crossfit_open_athletes_2019_filtered.isna().mean()"
   ]
  },
  {
   "cell_type": "code",
   "execution_count": 88,
   "metadata": {},
   "outputs": [
    {
     "data": {
      "image/png": "[encoded data removed]",
      "text/plain": [
       "<Figure size 432x288 with 1 Axes>"
      ]
     },
     "metadata": {
      "needs_background": "light"
     },
     "output_type": "display_data"
    }
   ],
   "source": [
    "crossfit_open_athletes_2019_filtered.age.plot.kde(title='Athlete Age Distribution');"
   ]
  },
  {
   "cell_type": "code",
   "execution_count": 71,
   "metadata": {
    "scrolled": true
   },
   "outputs": [
    {
     "data": {
      "image/png": "[encoded data removed]",
      "text/plain": [
       "<Figure size 360x360 with 1 Axes>"
      ]
     },
     "metadata": {},
     "output_type": "display_data"
    }
   ],
   "source": [
    "crossfit_open_athletes_2019_filtered.gender.value_counts().plot(kind='pie'\n",
    "                                                                , figsize=(5,5)\n",
    "                                                                , autopct='%1.0f%%'\n",
    "                                                                , pctdistance=0.5\n",
    "                                                                , title='Participation by Gender');"
   ]
  },
  {
   "cell_type": "code",
   "execution_count": 51,
   "metadata": {},
   "outputs": [
    {
     "data": {
      "text/plain": [
       "count            572653\n",
       "unique               11\n",
       "top       United States\n",
       "freq             302505\n",
       "Name: countryoforiginname, dtype: object"
      ]
     },
     "execution_count": 51,
     "metadata": {},
     "output_type": "execute_result"
    }
   ],
   "source": [
    "crossfit_open_athletes_2019_filtered.countryoforiginname.describe()"
   ]
  },
  {
   "cell_type": "code",
   "execution_count": 52,
   "metadata": {},
   "outputs": [],
   "source": [
    "top_countries_df = crossfit_open_athletes_2019_filtered.countryoforiginname.value_counts().sort_values(ascending=False).head(10)"
   ]
  },
  {
   "cell_type": "code",
   "execution_count": 53,
   "metadata": {},
   "outputs": [
    {
     "data": {
      "text/plain": [
       "United States     302505\n",
       "Other              94780\n",
       "Canada             31437\n",
       "Brazil             30226\n",
       "United Kingdom     29020\n",
       "Australia          28781\n",
       "France             23364\n",
       "Germany             9205\n",
       "Spain               8157\n",
       "Italy               7700\n",
       "Name: countryoforiginname, dtype: int64"
      ]
     },
     "execution_count": 53,
     "metadata": {},
     "output_type": "execute_result"
    }
   ],
   "source": [
    "top_countries_df"
   ]
  },
  {
   "cell_type": "code",
   "execution_count": 54,
   "metadata": {},
   "outputs": [],
   "source": [
    "crossfit_open_athletes_2019_filtered \\\n",
    "    .loc[~crossfit_open_athletes_2019_filtered.countryoforiginname.isin(top_countries_df.index.tolist()),\"countryoforiginname\"]= 'Other'"
   ]
  },
  {
   "cell_type": "code",
   "execution_count": 58,
   "metadata": {},
   "outputs": [
    {
     "data": {
      "image/png": "[encoded data removed]",
      "text/plain": [
       "<Figure size 360x360 with 1 Axes>"
      ]
     },
     "metadata": {},
     "output_type": "display_data"
    }
   ],
   "source": [
    "crossfit_open_athletes_2019_filtered.countryoforiginname.value_counts().plot(kind=\"pie\"\n",
    "                                 , figsize=(5,5)\n",
    "                                 , autopct='%1.0f%%'\n",
    "                                 , pctdistance=0.5\n",
    "                                 , title='Participation by Country');"
   ]
  },
  {
   "cell_type": "code",
   "execution_count": 74,
   "metadata": {},
   "outputs": [
    {
     "data": {
      "image/png": "[encoded data removed]",
      "text/plain": [
       "<Figure size 576x360 with 1 Axes>"
      ]
     },
     "metadata": {
      "needs_background": "light"
     },
     "output_type": "display_data"
    }
   ],
   "source": [
    "crossfit_open_athletes_2019_filtered.division.value_counts().plot.barh(title=\"Participation by Division\"\n",
    "                                                                       , figsize = (8,5));"
   ]
  },
  {
   "cell_type": "code",
   "execution_count": 79,
   "metadata": {},
   "outputs": [
    {
     "data": {
      "image/png": "[encoded data removed]",
      "text/plain": [
       "<Figure size 360x360 with 1 Axes>"
      ]
     },
     "metadata": {
      "needs_background": "light"
     },
     "output_type": "display_data"
    }
   ],
   "source": [
    "crossfit_open_athletes_2019_filtered.is_scaled.value_counts().plot.bar(title=\"Participation by Athletism Level\"\n",
    "                                                                       , figsize = (5,5)\n",
    "                                                                      , table=True);"
   ]
  },
  {
   "cell_type": "code",
   "execution_count": 7,
   "metadata": {},
   "outputs": [
    {
     "data": {
      "text/html": [
       "<div>\n",
       "<style scoped>\n",
       "    .dataframe tbody tr th:only-of-type {\n",
       "        vertical-align: middle;\n",
       "    }\n",
       "\n",
       "    .dataframe tbody tr th {\n",
       "        vertical-align: top;\n",
       "    }\n",
       "\n",
       "    .dataframe thead th {\n",
       "        text-align: right;\n",
       "    }\n",
       "</style>\n",
       "<table border=\"1\" class=\"dataframe\">\n",
       "  <thead>\n",
       "    <tr style=\"text-align: right;\">\n",
       "      <th></th>\n",
       "      <th>affiliate</th>\n",
       "      <th>breakdown</th>\n",
       "      <th>competitorid</th>\n",
       "      <th>division</th>\n",
       "      <th>is_scaled</th>\n",
       "      <th>judge</th>\n",
       "      <th>ordinal</th>\n",
       "      <th>rank</th>\n",
       "      <th>scaled</th>\n",
       "      <th>score</th>\n",
       "      <th>scoredisplay</th>\n",
       "      <th>scoreidentifier</th>\n",
       "      <th>time</th>\n",
       "    </tr>\n",
       "  </thead>\n",
       "  <tbody>\n",
       "    <tr>\n",
       "      <td>0</td>\n",
       "      <td>CrossFit RDU</td>\n",
       "      <td>9 rounds +\\n10 wall-ball shots\\n</td>\n",
       "      <td>96511</td>\n",
       "      <td>Men (45-49)</td>\n",
       "      <td>0</td>\n",
       "      <td>Erin Miller</td>\n",
       "      <td>1</td>\n",
       "      <td>1</td>\n",
       "      <td>0</td>\n",
       "      <td>13520000</td>\n",
       "      <td>352 reps</td>\n",
       "      <td>27f30f9a8c0a564ae799</td>\n",
       "      <td>NaN</td>\n",
       "    </tr>\n",
       "    <tr>\n",
       "      <td>1</td>\n",
       "      <td>CrossFit RDU</td>\n",
       "      <td>Within 16 minutes:\\n3 rounds +\\n25 toes-to-bar...</td>\n",
       "      <td>96511</td>\n",
       "      <td>Men (45-49)</td>\n",
       "      <td>0</td>\n",
       "      <td>Harper Thorsen</td>\n",
       "      <td>2</td>\n",
       "      <td>4</td>\n",
       "      <td>0</td>\n",
       "      <td>13420368</td>\n",
       "      <td>342 reps</td>\n",
       "      <td>0ed3d1264f25a8f1890d</td>\n",
       "      <td>NaN</td>\n",
       "    </tr>\n",
       "    <tr>\n",
       "      <td>2</td>\n",
       "      <td>CrossFit RDU</td>\n",
       "      <td>200-ft. OH lunge\\n50 box step-ups\\n50 strict H...</td>\n",
       "      <td>96511</td>\n",
       "      <td>Men (45-49)</td>\n",
       "      <td>0</td>\n",
       "      <td>Harper Thorsen</td>\n",
       "      <td>3</td>\n",
       "      <td>1</td>\n",
       "      <td>0</td>\n",
       "      <td>11800018</td>\n",
       "      <td>9:42</td>\n",
       "      <td>f2a143399a330c95321b</td>\n",
       "      <td>582.0</td>\n",
       "    </tr>\n",
       "    <tr>\n",
       "      <td>3</td>\n",
       "      <td>CrossFit RDU</td>\n",
       "      <td>132 reps\\n6 rounds</td>\n",
       "      <td>96511</td>\n",
       "      <td>Men (45-49)</td>\n",
       "      <td>0</td>\n",
       "      <td>Harper Thorsen</td>\n",
       "      <td>4</td>\n",
       "      <td>36</td>\n",
       "      <td>0</td>\n",
       "      <td>11320009</td>\n",
       "      <td>11:51</td>\n",
       "      <td>89101e401c6c85997363</td>\n",
       "      <td>711.0</td>\n",
       "    </tr>\n",
       "    <tr>\n",
       "      <td>4</td>\n",
       "      <td>CrossFit RDU</td>\n",
       "      <td>210 reps</td>\n",
       "      <td>96511</td>\n",
       "      <td>Men (45-49)</td>\n",
       "      <td>0</td>\n",
       "      <td>Harper Thorsen</td>\n",
       "      <td>5</td>\n",
       "      <td>1</td>\n",
       "      <td>0</td>\n",
       "      <td>12100573</td>\n",
       "      <td>10:27</td>\n",
       "      <td>f7588c9174f1fe90f5c4</td>\n",
       "      <td>627.0</td>\n",
       "    </tr>\n",
       "  </tbody>\n",
       "</table>\n",
       "</div>"
      ],
      "text/plain": [
       "      affiliate                                          breakdown  \\\n",
       "0  CrossFit RDU                   9 rounds +\\n10 wall-ball shots\\n   \n",
       "1  CrossFit RDU  Within 16 minutes:\\n3 rounds +\\n25 toes-to-bar...   \n",
       "2  CrossFit RDU  200-ft. OH lunge\\n50 box step-ups\\n50 strict H...   \n",
       "3  CrossFit RDU                                 132 reps\\n6 rounds   \n",
       "4  CrossFit RDU                                           210 reps   \n",
       "\n",
       "   competitorid     division  is_scaled           judge  ordinal  rank  \\\n",
       "0         96511  Men (45-49)          0     Erin Miller        1     1   \n",
       "1         96511  Men (45-49)          0  Harper Thorsen        2     4   \n",
       "2         96511  Men (45-49)          0  Harper Thorsen        3     1   \n",
       "3         96511  Men (45-49)          0  Harper Thorsen        4    36   \n",
       "4         96511  Men (45-49)          0  Harper Thorsen        5     1   \n",
       "\n",
       "   scaled     score scoredisplay       scoreidentifier   time  \n",
       "0       0  13520000     352 reps  27f30f9a8c0a564ae799    NaN  \n",
       "1       0  13420368     342 reps  0ed3d1264f25a8f1890d    NaN  \n",
       "2       0  11800018         9:42  f2a143399a330c95321b  582.0  \n",
       "3       0  11320009        11:51  89101e401c6c85997363  711.0  \n",
       "4       0  12100573        10:27  f7588c9174f1fe90f5c4  627.0  "
      ]
     },
     "execution_count": 7,
     "metadata": {},
     "output_type": "execute_result"
    }
   ],
   "source": [
    "crossfit_open_scores_2019 = read_file_csv(crossfit_open_scores_2019_file)\n",
    "crossfit_open_scores_2019.head()"
   ]
  },
  {
   "cell_type": "code",
   "execution_count": 13,
   "metadata": {},
   "outputs": [],
   "source": [
    "def join_df(left_df, right_df, on, how='inner', left_suffix='_left', right_suffix='_right'):\n",
    "    return left_df.join(other=right_df, on=on, how=how, lsuffix=left_suffix, rsuffix=right_suffix)"
   ]
  },
  {
   "cell_type": "code",
   "execution_count": null,
   "metadata": {},
   "outputs": [],
   "source": []
  }
 ],
 "metadata": {
  "kernelspec": {
   "display_name": "DSNanodegree",
   "language": "python",
   "name": "dsnanodegree"
  },
  "language_info": {
   "codemirror_mode": {
    "name": "ipython",
    "version": 3
   },
   "file_extension": ".py",
   "mimetype": "text/x-python",
   "name": "python",
   "nbconvert_exporter": "python",
   "pygments_lexer": "ipython3",
   "version": "3.8.2"
  }
 },
 "nbformat": 4,
 "nbformat_minor": 2
}
